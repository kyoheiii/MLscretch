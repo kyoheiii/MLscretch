{
    "cells": [
        {
            "cell_type": "code",
            "execution_count": 1,
            "source": [
                "import numpy as np \n",
                "import matplotlib.pyplot as plt\n",
                "import seaborn as sns\n",
                "from sklearn import datasets\n",
                "\n",
                "boston = datasets.load_boston()\n",
                "X = boston['data']\n",
                "y = boston['target']"
            ],
            "outputs": [],
            "metadata": {}
        },
        {
            "cell_type": "markdown",
            "source": [
                "https://qiita.com/Takayoshi_Makabe/items/8f6dcb25124b9dcb1ae8"
            ],
            "metadata": {}
        },
        {
            "cell_type": "code",
            "execution_count": 7,
            "source": [
                "def standard_scaler(X):\n",
                "    means = np.mean(X,axis=0)\n",
                "    stds = np.std(X,axis=0)\n",
                "    return (X - means)/stds\n",
                "\n",
                "def sign(x, first_element_zero = False):\n",
                "\n",
                "    signs = np.sign(x)\n",
                "\n",
                "    if first_element_zero == True:\n",
                "        signs[0] = 0\n",
                "    \n",
                "    return signs\n",
                "    \n",
                "\n",
                "\n",
                "\n",
                "\n",
                "    \n"
            ],
            "outputs": [],
            "metadata": {}
        },
        {
            "cell_type": "code",
            "execution_count": 10,
            "source": [
                "a = [-1,2,-5,0,6]\n",
                "print(sign(a))"
            ],
            "outputs": [
                {
                    "output_type": "stream",
                    "name": "stdout",
                    "text": [
                        "[-1  1 -1  0  1]\n"
                    ]
                }
            ],
            "metadata": {}
        },
        {
            "cell_type": "code",
            "execution_count": null,
            "source": [
                "class RegularizedRegression:\n",
                "\n",
                "     def _record_info(self, X, y, lam, intercept, standardize):\n",
                "\n",
                "         "
            ],
            "outputs": [],
            "metadata": {}
        }
    ],
    "metadata": {
        "orig_nbformat": 4,
        "language_info": {
            "name": "python",
            "version": "3.9.5",
            "mimetype": "text/x-python",
            "codemirror_mode": {
                "name": "ipython",
                "version": 3
            },
            "pygments_lexer": "ipython3",
            "nbconvert_exporter": "python",
            "file_extension": ".py"
        },
        "kernelspec": {
            "name": "python3",
            "display_name": "Python 3.9.5 64-bit ('base': conda)"
        },
        "interpreter": {
            "hash": "98b0a9b7b4eaaa670588a142fd0a9b87eaafe866f1db4228be72b4211d12040f"
        }
    },
    "nbformat": 4,
    "nbformat_minor": 2
}